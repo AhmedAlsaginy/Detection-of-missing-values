{
 "cells": [
  {
   "cell_type": "markdown",
   "id": "fe75972d",
   "metadata": {},
   "source": [
    "# Import library and dataset"
   ]
  },
  {
   "cell_type": "code",
   "execution_count": 1,
   "id": "6f84023c",
   "metadata": {},
   "outputs": [],
   "source": [
    "import pandas as pd"
   ]
  },
  {
   "cell_type": "code",
   "execution_count": 7,
   "id": "a6a0a681",
   "metadata": {},
   "outputs": [],
   "source": [
    "dataset=pd.read_csv(\"Dataset.csv\").values"
   ]
  },
  {
   "cell_type": "code",
   "execution_count": 8,
   "id": "2754ea74",
   "metadata": {},
   "outputs": [
    {
     "name": "stdout",
     "output_type": "stream",
     "text": [
      "[['Ahmed' '20']\n",
      " ['Mohammed' '?']\n",
      " ['Ismail' '22']\n",
      " ['Jin' '30']\n",
      " ['*' '20']\n",
      " [nan nan]]\n"
     ]
    }
   ],
   "source": [
    "print (dataset)"
   ]
  },
  {
   "cell_type": "markdown",
   "id": "674913e4",
   "metadata": {},
   "source": [
    "# Detection of missing values"
   ]
  },
  {
   "cell_type": "code",
   "execution_count": 9,
   "id": "6c16c06e",
   "metadata": {},
   "outputs": [
    {
     "name": "stdout",
     "output_type": "stream",
     "text": [
      "['Mohammed' '?']\n",
      "['*' '20']\n"
     ]
    }
   ],
   "source": [
    "#Define a list of possible mising values\n",
    "missing=[\"?\",\"*\",\"nan\"]\n",
    "#iterate over rows to detect missing values\n",
    "for row in dataset:\n",
    "    if set(row)&set(missing):\n",
    "        print(row)"
   ]
  },
  {
   "cell_type": "code",
   "execution_count": null,
   "id": "9aa1f48b",
   "metadata": {},
   "outputs": [],
   "source": []
  }
 ],
 "metadata": {
  "kernelspec": {
   "display_name": "Python 3 (ipykernel)",
   "language": "python",
   "name": "python3"
  },
  "language_info": {
   "codemirror_mode": {
    "name": "ipython",
    "version": 3
   },
   "file_extension": ".py",
   "mimetype": "text/x-python",
   "name": "python",
   "nbconvert_exporter": "python",
   "pygments_lexer": "ipython3",
   "version": "3.9.6"
  }
 },
 "nbformat": 4,
 "nbformat_minor": 5
}
